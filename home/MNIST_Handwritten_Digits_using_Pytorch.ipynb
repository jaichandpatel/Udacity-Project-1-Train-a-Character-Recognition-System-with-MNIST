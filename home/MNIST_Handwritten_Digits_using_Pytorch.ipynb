{
 "cells": [
  {
   "cell_type": "code",
   "execution_count": 1,
   "metadata": {
    "id": "2YQfDn30umXa"
   },
   "outputs": [],
   "source": [
    "# Import Libraries (as per udacity exercise)\n",
    "import torch\n",
    "from torch import nn\n",
    "from torch import optim\n",
    "import torch.nn.functional as F\n",
    "from torch.utils.data import DataLoader\n",
    "from torchvision import transforms\n",
    "from torchvision import datasets\n",
    "import matplotlib.pyplot as plt\n",
    "\n",
    "import pandas as pd\n",
    "import numpy as np"
   ]
  },
  {
   "cell_type": "code",
   "execution_count": 2,
   "metadata": {},
   "outputs": [
    {
     "name": "stderr",
     "output_type": "stream",
     "text": [
      "/opt/conda/lib/python3.7/site-packages/torchvision/datasets/mnist.py:498: UserWarning: The given NumPy array is not writable, and PyTorch does not support non-writable tensors. This means writing to this tensor will result in undefined behavior. You may want to copy the array to protect its data or make it writable before converting it to a tensor. This type of warning will be suppressed for the rest of this program. (Triggered internally at  ../torch/csrc/utils/tensor_numpy.cpp:178.)\n",
      "  return torch.from_numpy(parsed.astype(m[2], copy=False)).view(*s)\n"
     ]
    }
   ],
   "source": [
    "# Define transforms (data transformation into tensor and normalization)\n",
    "transform = transforms.Compose([transforms.ToTensor(),\n",
    "                                transforms.Normalize((0.5), (0.5))])\n",
    "\n",
    "# Create training set\n",
    "training_data = datasets.MNIST('mnist_data',\n",
    "                               train=True,\n",
    "                               download=True,\n",
    "                               transform=transform)\n",
    "# Create test set\n",
    "test_data = datasets.MNIST('mnist_data',\n",
    "                           train=False,\n",
    "                           download=True,\n",
    "                           transform=transform)\n",
    "batch = 100\n",
    "\n",
    "# Define training dataloader\n",
    "train_loader = DataLoader(training_data,\n",
    "                          batch_size=batch,\n",
    "                          shuffle=True)\n",
    "# Define test dataloader\n",
    "test_loader = DataLoader(test_data,\n",
    "                         batch_size=batch,\n",
    "                         shuffle=True)"
   ]
  },
  {
   "cell_type": "code",
   "execution_count": 4,
   "metadata": {},
   "outputs": [
    {
     "data": {
      "text/plain": [
       "<matplotlib.image.AxesImage at 0x7f204726e0d0>"
      ]
     },
     "execution_count": 4,
     "metadata": {},
     "output_type": "execute_result"
    },
    {
     "data": {
      "image/png": "[encoded data removed]",
      "text/plain": [
       "<Figure size 432x288 with 1 Axes>"
      ]
     },
     "metadata": {
      "needs_background": "light"
     },
     "output_type": "display_data"
    }
   ],
   "source": [
    "plt.imshow(training_data[0][0][0])"
   ]
  },
  {
   "cell_type": "code",
   "execution_count": 5,
   "metadata": {},
   "outputs": [],
   "source": [
    "#Define the Neural architecture (format is taken form pytorch documentation)\n",
    "\n",
    "class cnn(nn.Module):\n",
    "\n",
    "    def __init__(self):\n",
    "        super(cnn, self).__init__()\n",
    "\n",
    "        self.conv1 = nn.Conv2d(1, 16, kernel_size = 5, stride = 1)\n",
    "        self.pool1 = nn.MaxPool2d(kernel_size = 2, stride = 2)\n",
    "        self.conv2 = nn.Conv2d(16, 8, kernel_size = 5, stride = 1)\n",
    "        \n",
    "        self.ful_con1 = nn.Linear(32*4*4, 256)\n",
    "        \n",
    "        self.ful_con2 = nn.Linear(256, 128)\n",
    "        self.ful_con3 = nn.Linear(128, 10)\n",
    "\n",
    "    def forward(self, x):\n",
    "        x = F.relu(self.conv1(x))\n",
    "        x = self.pool1(x)\n",
    "        x = F.relu(self.conv2(x))\n",
    "\n",
    "        x = x.view(-1, 32*4*4)\n",
    "        \n",
    "        x = F.relu(self.ful_con1(x))\n",
    "        x = F.relu(self.ful_con2(x))\n",
    "        x = self.ful_con3(x)\n",
    "        return(x)\n",
    "\n",
    "uda_net = cnn()\n"
   ]
  },
  {
   "cell_type": "code",
   "execution_count": 6,
   "metadata": {},
   "outputs": [
    {
     "name": "stdout",
     "output_type": "stream",
     "text": [
      "cnn(\n",
      "  (conv1): Conv2d(1, 16, kernel_size=(5, 5), stride=(1, 1))\n",
      "  (pool1): MaxPool2d(kernel_size=2, stride=2, padding=0, dilation=1, ceil_mode=False)\n",
      "  (conv2): Conv2d(16, 8, kernel_size=(5, 5), stride=(1, 1))\n",
      "  (ful_con1): Linear(in_features=512, out_features=256, bias=True)\n",
      "  (ful_con2): Linear(in_features=256, out_features=128, bias=True)\n",
      "  (ful_con3): Linear(in_features=128, out_features=10, bias=True)\n",
      ")\n"
     ]
    }
   ],
   "source": [
    "#shape of neural architecture\n",
    "print(uda_net)"
   ]
  },
  {
   "cell_type": "code",
   "execution_count": 7,
   "metadata": {},
   "outputs": [],
   "source": [
    "#Training loop taken from udacity exercise\n",
    "def train_model(uda_net, n_epoch = 50, learning_rate = 0.01):\n",
    "    #define optimizer\n",
    "    optimizer = optim.SGD(uda_net.parameters(), lr=learning_rate, momentum=0.9)\n",
    "    \n",
    "    #define loss function\n",
    "    criterion = nn.CrossEntropyLoss()\n",
    "\n",
    "    #loop iteration as per number of epoch defined\n",
    "    for epoch in range(n_epoch):\n",
    "        #put neural network in training loop\n",
    "        uda_net.train()\n",
    "        #epoch loos set is o\n",
    "        train_loss = 0.0\n",
    "        #number of prections are set to 0\n",
    "        train_pred = 0\n",
    "\n",
    "        #loop will be run in epoch over traing data\n",
    "        for i, data in enumerate(train_loader):\n",
    "            #extract independant variables and targets from the batch\n",
    "            inputs, labels = data\n",
    "\n",
    "            #put the data on GPU device\n",
    "            if torch.cuda.is_available():\n",
    "                inputs, lables = inputs.cuda(), labels.cuda()\n",
    "            \n",
    "            #gradient of optimizer\n",
    "            optimizer.zero_grad()\n",
    "\n",
    "            #get logits from model\n",
    "            outputs = uda_net(inputs)\n",
    "\n",
    "            #calculate loss between prediction and the actual values\n",
    "            loss = criterion(outputs, labels)\n",
    "\n",
    "            #calculate loss gradient against parameters\n",
    "            loss.backward()\n",
    "\n",
    "            #Update parameters using step with optimizer\n",
    "            optimizer.step()\n",
    "\n",
    "            #preictions from outputs\n",
    "            _, preds = torch.max(outputs.data, 1)\n",
    "            #update preiction after each epoch\n",
    "            train_pred += (preds ==labels).sum().item()\n",
    "            #update loss\n",
    "            train_loss += loss.item()\n",
    "\n",
    "        #print the loss and accuracy for training model\n",
    "        print(f'Epoch {epoch + 1} training accuracy: {train_pred/len(train_loader):.3f}% training loss: {train_loss/len(train_loader):.3f}')\n",
    "\n",
    "        #Validation accuracy\n",
    "        val_loss =0.0\n",
    "        val_pred = 0\n",
    "        uda_net.eval()\n",
    "        for inputs, labels in test_loader:\n",
    "            if torch.cuda.is_available():\n",
    "                inputs, labels = inputs.cuda(), lables.cuda()\n",
    "            \n",
    "            outputs = uda_net(inputs)\n",
    "            loss = criterion(outputs, labels)\n",
    "\n",
    "            _, preds = torch.max(outputs.data, 1)\n",
    "            val_pred += (preds ==labels).sum().item()\n",
    "            val_loss += loss.item()\n",
    "\n",
    "        #print loss accuracy for validation model\n",
    "        print(f'Epoch {epoch + 1} validation accuracy: {val_pred/len(test_loader):.3f}% validation loss: {val_loss/len(test_loader):.3f}')\n"
   ]
  },
  {
   "cell_type": "markdown",
   "metadata": {},
   "source": [
    "In the above code I am getting error on udacity platform but easily could run on google colab."
   ]
  },
  {
   "cell_type": "code",
   "execution_count": 8,
   "metadata": {
    "scrolled": true
   },
   "outputs": [
    {
     "name": "stdout",
     "output_type": "stream",
     "text": [
      "Epoch 1 training accuracy: 85.568% training loss: 0.456\n",
      "Epoch 1 validation accuracy: 97.490% validation loss: 0.082\n",
      "Epoch 2 training accuracy: 97.583% training loss: 0.077\n",
      "Epoch 2 validation accuracy: 98.100% validation loss: 0.057\n",
      "Epoch 3 training accuracy: 98.285% training loss: 0.054\n",
      "Epoch 3 validation accuracy: 98.540% validation loss: 0.046\n",
      "Epoch 4 training accuracy: 98.683% training loss: 0.042\n",
      "Epoch 4 validation accuracy: 98.380% validation loss: 0.050\n",
      "Epoch 5 training accuracy: 98.997% training loss: 0.032\n",
      "Epoch 5 validation accuracy: 98.870% validation loss: 0.039\n",
      "Epoch 6 training accuracy: 99.193% training loss: 0.026\n",
      "Epoch 6 validation accuracy: 98.600% validation loss: 0.046\n",
      "Epoch 7 training accuracy: 99.295% training loss: 0.023\n",
      "Epoch 7 validation accuracy: 98.820% validation loss: 0.037\n",
      "Epoch 8 training accuracy: 99.445% training loss: 0.017\n",
      "Epoch 8 validation accuracy: 98.790% validation loss: 0.040\n",
      "Epoch 9 training accuracy: 99.492% training loss: 0.015\n",
      "Epoch 9 validation accuracy: 98.960% validation loss: 0.037\n",
      "Epoch 10 training accuracy: 99.600% training loss: 0.013\n",
      "Epoch 10 validation accuracy: 98.970% validation loss: 0.037\n",
      "Epoch 11 training accuracy: 99.673% training loss: 0.010\n",
      "Epoch 11 validation accuracy: 98.920% validation loss: 0.036\n",
      "Epoch 12 training accuracy: 99.722% training loss: 0.009\n",
      "Epoch 12 validation accuracy: 98.550% validation loss: 0.054\n",
      "Epoch 13 training accuracy: 99.758% training loss: 0.008\n",
      "Epoch 13 validation accuracy: 98.940% validation loss: 0.038\n",
      "Epoch 14 training accuracy: 99.798% training loss: 0.006\n",
      "Epoch 14 validation accuracy: 99.010% validation loss: 0.041\n",
      "Epoch 15 training accuracy: 99.825% training loss: 0.006\n",
      "Epoch 15 validation accuracy: 99.050% validation loss: 0.039\n",
      "Epoch 16 training accuracy: 99.835% training loss: 0.005\n",
      "Epoch 16 validation accuracy: 99.050% validation loss: 0.040\n",
      "Epoch 17 training accuracy: 99.868% training loss: 0.004\n",
      "Epoch 17 validation accuracy: 98.940% validation loss: 0.047\n",
      "Epoch 18 training accuracy: 99.903% training loss: 0.003\n",
      "Epoch 18 validation accuracy: 98.820% validation loss: 0.050\n",
      "Epoch 19 training accuracy: 99.897% training loss: 0.003\n",
      "Epoch 19 validation accuracy: 98.990% validation loss: 0.042\n",
      "Epoch 20 training accuracy: 99.937% training loss: 0.002\n",
      "Epoch 20 validation accuracy: 98.960% validation loss: 0.050\n",
      "Epoch 21 training accuracy: 99.943% training loss: 0.002\n",
      "Epoch 21 validation accuracy: 99.030% validation loss: 0.044\n",
      "Epoch 22 training accuracy: 99.973% training loss: 0.001\n",
      "Epoch 22 validation accuracy: 98.970% validation loss: 0.045\n",
      "Epoch 23 training accuracy: 99.965% training loss: 0.001\n",
      "Epoch 23 validation accuracy: 98.880% validation loss: 0.057\n",
      "Epoch 24 training accuracy: 99.845% training loss: 0.004\n",
      "Epoch 24 validation accuracy: 99.130% validation loss: 0.039\n",
      "Epoch 25 training accuracy: 99.942% training loss: 0.002\n",
      "Epoch 25 validation accuracy: 99.100% validation loss: 0.042\n",
      "Epoch 26 training accuracy: 99.877% training loss: 0.003\n",
      "Epoch 26 validation accuracy: 98.930% validation loss: 0.045\n",
      "Epoch 27 training accuracy: 99.937% training loss: 0.002\n",
      "Epoch 27 validation accuracy: 99.030% validation loss: 0.046\n",
      "Epoch 28 training accuracy: 99.990% training loss: 0.001\n",
      "Epoch 28 validation accuracy: 99.060% validation loss: 0.044\n",
      "Epoch 29 training accuracy: 100.000% training loss: 0.000\n",
      "Epoch 29 validation accuracy: 99.090% validation loss: 0.043\n",
      "Epoch 30 training accuracy: 99.997% training loss: 0.000\n",
      "Epoch 30 validation accuracy: 99.100% validation loss: 0.044\n",
      "Epoch 31 training accuracy: 99.997% training loss: 0.000\n",
      "Epoch 31 validation accuracy: 99.080% validation loss: 0.045\n",
      "Epoch 32 training accuracy: 99.992% training loss: 0.000\n",
      "Epoch 32 validation accuracy: 99.070% validation loss: 0.045\n",
      "Epoch 33 training accuracy: 99.997% training loss: 0.000\n",
      "Epoch 33 validation accuracy: 99.100% validation loss: 0.047\n",
      "Epoch 34 training accuracy: 99.998% training loss: 0.000\n",
      "Epoch 34 validation accuracy: 99.090% validation loss: 0.046\n",
      "Epoch 35 training accuracy: 100.000% training loss: 0.000\n",
      "Epoch 35 validation accuracy: 99.070% validation loss: 0.046\n",
      "Epoch 36 training accuracy: 100.000% training loss: 0.000\n",
      "Epoch 36 validation accuracy: 99.070% validation loss: 0.047\n",
      "Epoch 37 training accuracy: 100.000% training loss: 0.000\n",
      "Epoch 37 validation accuracy: 99.070% validation loss: 0.047\n",
      "Epoch 38 training accuracy: 100.000% training loss: 0.000\n",
      "Epoch 38 validation accuracy: 99.070% validation loss: 0.047\n",
      "Epoch 39 training accuracy: 100.000% training loss: 0.000\n",
      "Epoch 39 validation accuracy: 99.070% validation loss: 0.048\n",
      "Epoch 40 training accuracy: 100.000% training loss: 0.000\n",
      "Epoch 40 validation accuracy: 99.070% validation loss: 0.048\n",
      "Epoch 41 training accuracy: 100.000% training loss: 0.000\n",
      "Epoch 41 validation accuracy: 99.060% validation loss: 0.048\n",
      "Epoch 42 training accuracy: 100.000% training loss: 0.000\n",
      "Epoch 42 validation accuracy: 99.060% validation loss: 0.048\n",
      "Epoch 43 training accuracy: 100.000% training loss: 0.000\n",
      "Epoch 43 validation accuracy: 99.080% validation loss: 0.049\n",
      "Epoch 44 training accuracy: 100.000% training loss: 0.000\n",
      "Epoch 44 validation accuracy: 99.070% validation loss: 0.049\n",
      "Epoch 45 training accuracy: 100.000% training loss: 0.000\n",
      "Epoch 45 validation accuracy: 99.060% validation loss: 0.049\n",
      "Epoch 46 training accuracy: 100.000% training loss: 0.000\n",
      "Epoch 46 validation accuracy: 99.060% validation loss: 0.049\n",
      "Epoch 47 training accuracy: 100.000% training loss: 0.000\n",
      "Epoch 47 validation accuracy: 99.080% validation loss: 0.050\n",
      "Epoch 48 training accuracy: 100.000% training loss: 0.000\n",
      "Epoch 48 validation accuracy: 99.070% validation loss: 0.050\n",
      "Epoch 49 training accuracy: 100.000% training loss: 0.000\n",
      "Epoch 49 validation accuracy: 99.050% validation loss: 0.050\n",
      "Epoch 50 training accuracy: 100.000% training loss: 0.000\n",
      "Epoch 50 validation accuracy: 99.070% validation loss: 0.050\n"
     ]
    }
   ],
   "source": [
    "train_model(uda_net)"
   ]
  },
  {
   "cell_type": "code",
   "execution_count": 9,
   "metadata": {},
   "outputs": [],
   "source": [
    "torch.save(uda_net, \"uda_net.pt\")"
   ]
  }
 ],
 "metadata": {
  "accelerator": "GPU",
  "colab": {
   "authorship_tag": "ABX9TyNoQ8hmJdftbEh7menZ8s5N",
   "collapsed_sections": [],
   "provenance": []
  },
  "gpuClass": "standard",
  "kernelspec": {
   "display_name": "Python 3",
   "language": "python",
   "name": "python3"
  },
  "language_info": {
   "codemirror_mode": {
    "name": "ipython",
    "version": 3
   },
   "file_extension": ".py",
   "mimetype": "text/x-python",
   "name": "python",
   "nbconvert_exporter": "python",
   "pygments_lexer": "ipython3",
   "version": "3.7.6"
  }
 },
 "nbformat": 4,
 "nbformat_minor": 1
}
